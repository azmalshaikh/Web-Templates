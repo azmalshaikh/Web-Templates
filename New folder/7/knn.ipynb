{
  "cells": [
    {
      "cell_type": "code",
      "execution_count": null,
      "metadata": {
        "id": "6UwJqe8T8oVy"
      },
      "outputs": [],
      "source": [
        "data = [\n",
        "           [0,1,1],\n",
        "           [0,0,0],\n",
        "           [0,0,0],\n",
        "           [0,0,1],\n",
        "           [0,1,0],\n",
        "           [0,1,0],\n",
        "           [1,1,1],\n",
        "           [1,1,0],\n",
        "           [0,1,1],\n",
        "           [0,0,0],\n",
        "           [0,1,0],\n",
        "           [0,1,0],\n",
        "           [0,1,1],\n",
        "           [0,0,0],\n",
        "           [0,1,0],\n",
        "           [0,1,0],\n",
        "           [0,1,1],\n",
        "           [1,1,0]\n",
        "           ]"
      ]
    },
    {
      "cell_type": "code",
      "execution_count": null,
      "metadata": {
        "colab": {
          "base_uri": "https://localhost:8080/",
          "height": 265
        },
        "id": "z41RYgKr-WiS",
        "outputId": "c822f6e3-5d23-4d9e-9d72-0d5e0507013d"
      },
      "outputs": [
        {
          "data": {
            "image/png": "[encoded data removed]",
            "text/plain": [
              "<Figure size 432x288 with 1 Axes>"
            ]
          },
          "metadata": {
            "needs_background": "light"
          },
          "output_type": "display_data"
        }
      ],
      "source": [
        "x = [i[0] for i in data]\n",
        "y = [i[1] for i in data]\n",
        "label = [i[2] for i in data]\n",
        "import matplotlib.pyplot as plt\n",
        "plt.scatter(x,y,c=label)\n",
        "plt.show()"
      ]
    },
    {
      "cell_type": "code",
      "execution_count": null,
      "metadata": {
        "id": "cMDjnbY1-alf"
      },
      "outputs": [],
      "source": [
        "import math\n",
        "def dist(testRow, trainRow):\n",
        "    d = 0.0\n",
        "    for i in range(0,len(trainRow)-1):\n",
        "        d += (testRow[i]-trainRow[i])**2\n",
        "    return math.sqrt(d)\n"
      ]
    },
    {
      "cell_type": "code",
      "execution_count": null,
      "metadata": {
        "colab": {
          "base_uri": "https://localhost:8080/"
        },
        "id": "xlMQdefi-2PP",
        "outputId": "6c7891bf-1e7f-44cb-de09-562e211e8c0d"
      },
      "outputs": [
        {
          "name": "stdout",
          "output_type": "stream",
          "text": [
            "Enter the point to classify\n",
            "1 1\n",
            "Enter the k\n",
            "3\n"
          ]
        }
      ],
      "source": [
        "print(\"Enter the point to classify\")\n",
        "test = [int(i) for i in input().split()]\n",
        "print(\"Enter the k\")\n",
        "k = int(input())"
      ]
    },
    {
      "cell_type": "code",
      "execution_count": null,
      "metadata": {
        "colab": {
          "base_uri": "https://localhost:8080/",
          "height": 265
        },
        "id": "aQM4QX43-_Uj",
        "outputId": "23ad15f6-f3c5-42c2-8bae-8d9cd05ef800"
      },
      "outputs": [
        {
          "data": {
            "image/png": "[encoded data removed]",
            "text/plain": [
              "<Figure size 432x288 with 1 Axes>"
            ]
          },
          "metadata": {
            "needs_background": "light"
          },
          "output_type": "display_data"
        }
      ],
      "source": [
        "plt.scatter(x,y,c=label)\n",
        "plt.scatter(test[0],test[1],c='red')\n",
        "plt.show()"
      ]
    },
    {
      "cell_type": "code",
      "execution_count": null,
      "metadata": {
        "colab": {
          "base_uri": "https://localhost:8080/"
        },
        "id": "f3Pq6Upp_HaM",
        "outputId": "5c465733-d776-4c3d-9e7b-7579905a72da"
      },
      "outputs": [
        {
          "name": "stdout",
          "output_type": "stream",
          "text": [
            "K nearest neighbours\n",
            "point: (1, 1) with distance: 0.0 and class: 1\n",
            "point: (1, 1) with distance: 0.0 and class: 0\n",
            "point: (1, 1) with distance: 0.0 and class: 0\n"
          ]
        }
      ],
      "source": [
        "d = list()\n",
        "for row in data:\n",
        "    temp = dist(test,row)\n",
        "    d.append((temp,row))\n",
        "d.sort(key = lambda x: x[0]) \n",
        "knn = list()\n",
        "print(\"K nearest neighbours\")\n",
        "for i in range(k):\n",
        "    print(\"point: (\"+str(d[i][1][0])+\", \"+str(d[i][1][1])+\") with distance: \"+str(d[i][0])+\" and class: \"+str(d[i][1][-1]))\n",
        "    knn.append(d[i][1])"
      ]
    },
    {
      "cell_type": "code",
      "execution_count": null,
      "metadata": {
        "colab": {
          "base_uri": "https://localhost:8080/"
        },
        "id": "CpGlHKpuH2tC",
        "outputId": "0e1b7141-54c7-42e1-c225-c0d461359f3b"
      },
      "outputs": [
        {
          "name": "stdout",
          "output_type": "stream",
          "text": [
            "prediction: 0\n"
          ]
        }
      ],
      "source": [
        "labels = [label[-1] for label in knn]\n",
        "pred = max(set(labels), key=labels.count)\n",
        "print('prediction: '+str(pred))"
      ]
    }
  ],
  "metadata": {
    "colab": {
      "provenance": []
    },
    "kernelspec": {
      "display_name": "Python 3.10.6 64-bit",
      "language": "python",
      "name": "python3"
    },
    "language_info": {
      "name": "python",
      "version": "3.10.6"
    },
    "vscode": {
      "interpreter": {
        "hash": "fdeba29dc3a54dcc62ab65d34692a14a11af5012098032059aebf3d8ebf2e0a7"
      }
    }
  },
  "nbformat": 4,
  "nbformat_minor": 0
}
