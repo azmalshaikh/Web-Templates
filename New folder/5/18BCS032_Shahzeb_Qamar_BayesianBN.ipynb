{
 "cells": [
  {
   "cell_type": "code",
   "execution_count": 206,
   "id": "cb964f25",
   "metadata": {},
   "outputs": [],
   "source": [
    "class Node:\n",
    "    name=''\n",
    "    cpt=[]\n",
    "    pt=[]\n",
    "    parent=[]\n",
    "    def __init__(self,name,cpt,pt,parent):\n",
    "        self.name=name\n",
    "        self.cpt=cpt\n",
    "        self.pt=pt\n",
    "        self.parent=parent\n",
    "    def printNode(self):\n",
    "        print(self.name)\n",
    "        print('=================================')\n",
    "        print(\"Conditional Probability=>\",self.cpt)\n",
    "        print(\"Probability=>\",self.pt)\n",
    "        print(\"Parents=>\",self.parent)\n",
    "        print('=================================')"
   ]
  },
  {
   "cell_type": "code",
   "execution_count": 207,
   "id": "1cc52d42",
   "metadata": {},
   "outputs": [],
   "source": [
    "graph=[]\n",
    "atmos_pres=Node('Atmospheric Pressure',[],[0.4,0.6],[])\n",
    "graph.append(atmos_pres)\n",
    "season=Node('Season',[],[0.3,0.7],[])\n",
    "graph.append(season)\n",
    "rain=Node('Rain',[[0.1,0.2],[0.1,0.6]],[],[1,0])\n",
    "graph.append(rain)\n",
    "allergy=Node('Allergy',[[0.02,0.08],[0.2,0.7]],[],[2,1])\n",
    "graph.append(allergy)\n",
    "crop_fail=Node('Crop Failure',[[0.3,0.7]],[],[2])\n",
    "graph.append(crop_fail)"
   ]
  },
  {
   "cell_type": "code",
   "execution_count": 208,
   "id": "c58f2153",
   "metadata": {},
   "outputs": [
    {
     "name": "stdout",
     "output_type": "stream",
     "text": [
      "Atmospheric Pressure\n",
      "=================================\n",
      "Conditional Probability=> []\n",
      "Probability=> [0.4, 0.6]\n",
      "Parents=> []\n",
      "=================================\n",
      "Season\n",
      "=================================\n",
      "Conditional Probability=> []\n",
      "Probability=> [0.3, 0.7]\n",
      "Parents=> []\n",
      "=================================\n",
      "Rain\n",
      "=================================\n",
      "Conditional Probability=> [[0.1, 0.2], [0.1, 0.6]]\n",
      "Probability=> []\n",
      "Parents=> [1, 0]\n",
      "=================================\n",
      "Allergy\n",
      "=================================\n",
      "Conditional Probability=> [[0.02, 0.08], [0.2, 0.7]]\n",
      "Probability=> []\n",
      "Parents=> [2, 1]\n",
      "=================================\n",
      "Crop Failure\n",
      "=================================\n",
      "Conditional Probability=> [[0.3, 0.7]]\n",
      "Probability=> []\n",
      "Parents=> [2]\n",
      "=================================\n"
     ]
    }
   ],
   "source": [
    "for node in graph:\n",
    "    node.printNode()"
   ]
  },
  {
   "cell_type": "code",
   "execution_count": 209,
   "id": "369731b5",
   "metadata": {},
   "outputs": [],
   "source": [
    "def fillProbT(node):\n",
    "    if len(node.pt) != 0:\n",
    "        return node.pt\n",
    "    parent_pts=[]\n",
    "    for i in node.parent:\n",
    "        parent_pts.append(fillProbT(graph[i]))\n",
    "    #print(node.name,parent_pts)\n",
    "    probab=0\n",
    "    i=0\n",
    "    for row in node.cpt:\n",
    "        for elem in row:\n",
    "            probab+=elem*getProb(parent_pts,0,i)\n",
    "            i+=1\n",
    "    node.pt.append(1-probab)\n",
    "    node.pt.append(probab)\n",
    "    #node.printNode()\n",
    "    return node.pt"
   ]
  },
  {
   "cell_type": "code",
   "execution_count": 210,
   "id": "075b246f",
   "metadata": {},
   "outputs": [],
   "source": [
    "def getProb(parent_pts,pt,i):\n",
    "    if pt==len(parent_pts):\n",
    "        return 1\n",
    "    idx=0\n",
    "    if (1<<pt)&i != 0:\n",
    "        idx=1\n",
    "    return parent_pts[pt][idx]*getProb(parent_pts,pt+1,i)"
   ]
  },
  {
   "cell_type": "code",
   "execution_count": 211,
   "id": "ead9b4ba",
   "metadata": {},
   "outputs": [],
   "source": [
    "for node in graph:\n",
    "    fillProbT(node)"
   ]
  },
  {
   "cell_type": "code",
   "execution_count": 212,
   "id": "c3967321",
   "metadata": {},
   "outputs": [
    {
     "name": "stdout",
     "output_type": "stream",
     "text": [
      "Atmospheric Pressure\n",
      "=================================\n",
      "Conditional Probability=> []\n",
      "Probability=> [0.4, 0.6]\n",
      "Parents=> []\n",
      "=================================\n",
      "Season\n",
      "=================================\n",
      "Conditional Probability=> []\n",
      "Probability=> [0.3, 0.7]\n",
      "Parents=> []\n",
      "=================================\n",
      "Rain\n",
      "=================================\n",
      "Conditional Probability=> [[0.1, 0.2], [0.1, 0.6]]\n",
      "Probability=> [0.662, 0.33799999999999997]\n",
      "Parents=> [1, 0]\n",
      "=================================\n",
      "Allergy\n",
      "=================================\n",
      "Conditional Probability=> [[0.02, 0.08], [0.2, 0.7]]\n",
      "Probability=> [0.729616, 0.27038399999999996]\n",
      "Parents=> [2, 1]\n",
      "=================================\n",
      "Crop Failure\n",
      "=================================\n",
      "Conditional Probability=> [[0.3, 0.7]]\n",
      "Probability=> [0.5648000000000001, 0.4351999999999999]\n",
      "Parents=> [2]\n",
      "=================================\n"
     ]
    }
   ],
   "source": [
    "for node in graph:\n",
    "    node.printNode()"
   ]
  },
  {
   "cell_type": "code",
   "execution_count": 213,
   "id": "0e059259",
   "metadata": {},
   "outputs": [
    {
     "name": "stdout",
     "output_type": "stream",
     "text": [
      "Probability of allergy due to rain and change of season=> 0.16561999999999996\n"
     ]
    }
   ],
   "source": [
    "#P(allergy^rain^season)=P(allergy|rain,season)*P(rain)*P(season)\n",
    "probab_allergy_rain_season=graph[3].cpt[1][1]*graph[2].pt[1]*graph[1].pt[1]\n",
    "print(\"Probability of allergy due to rain and change of season=>\",probab_allergy_rain_season)"
   ]
  },
  {
   "cell_type": "code",
   "execution_count": null,
   "id": "4a239f99",
   "metadata": {},
   "outputs": [],
   "source": []
  },
  {
   "cell_type": "code",
   "execution_count": null,
   "id": "7d8b737a",
   "metadata": {},
   "outputs": [],
   "source": []
  },
  {
   "cell_type": "code",
   "execution_count": null,
   "id": "be9ab3e6",
   "metadata": {},
   "outputs": [],
   "source": []
  },
  {
   "cell_type": "code",
   "execution_count": null,
   "id": "607ff37f",
   "metadata": {},
   "outputs": [],
   "source": []
  }
 ],
 "metadata": {
  "kernelspec": {
   "display_name": "Python 3.10.6 64-bit",
   "language": "python",
   "name": "python3"
  },
  "language_info": {
   "codemirror_mode": {
    "name": "ipython",
    "version": 3
   },
   "file_extension": ".py",
   "mimetype": "text/x-python",
   "name": "python",
   "nbconvert_exporter": "python",
   "pygments_lexer": "ipython3",
   "version": "3.10.6"
  },
  "vscode": {
   "interpreter": {
    "hash": "fdeba29dc3a54dcc62ab65d34692a14a11af5012098032059aebf3d8ebf2e0a7"
   }
  }
 },
 "nbformat": 4,
 "nbformat_minor": 5
}
