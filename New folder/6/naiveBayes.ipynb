{
  "cells": [
    {
      "cell_type": "code",
      "execution_count": 2,
      "metadata": {
        "id": "nnOPY4V4dSy9"
      },
      "outputs": [],
      "source": [
        "dataset = [\n",
        "           [0,1,0,1],\n",
        "           [0,0,0,0],\n",
        "           [0,0,0,0],\n",
        "           [0,0,0,1],\n",
        "           [0,1,0,0],\n",
        "           [0,1,0,0],\n",
        "           [1,1,1,1],\n",
        "           [1,1,1,0],\n",
        "           [0,1,0,1],\n",
        "           [0,0,0,0],\n",
        "           [0,1,0,0],\n",
        "           [0,1,1,0],\n",
        "           [0,1,0,1],\n",
        "           [0,0,0,0],\n",
        "           [0,1,0,0],\n",
        "           [0,1,0,0],\n",
        "           [0,1,0,1],\n",
        "           [1,1,1,0]\n",
        "           ]"
      ]
    },
    {
      "cell_type": "code",
      "execution_count": 3,
      "metadata": {
        "colab": {
          "base_uri": "https://localhost:8080/"
        },
        "id": "zOBM014khPdU",
        "outputId": "5c4b956b-b9c8-4ff8-8720-5e143120bfe9"
      },
      "outputs": [
        {
          "name": "stdout",
          "output_type": "stream",
          "text": [
            "1\n",
            "[0, 1, 0, 1]\n",
            "[0, 0, 0, 1]\n",
            "[1, 1, 1, 1]\n",
            "[0, 1, 0, 1]\n",
            "[0, 1, 0, 1]\n",
            "[0, 1, 0, 1]\n",
            "0\n",
            "[0, 0, 0, 0]\n",
            "[0, 0, 0, 0]\n",
            "[0, 1, 0, 0]\n",
            "[0, 1, 0, 0]\n",
            "[1, 1, 1, 0]\n",
            "[0, 0, 0, 0]\n",
            "[0, 1, 0, 0]\n",
            "[0, 1, 1, 0]\n",
            "[0, 0, 0, 0]\n",
            "[0, 1, 0, 0]\n",
            "[0, 1, 0, 0]\n",
            "[1, 1, 1, 0]\n"
          ]
        }
      ],
      "source": [
        "mp = dict()\n",
        "for i in range(len(dataset)):\n",
        "    row = dataset[i]\n",
        "    y = row[-1]\n",
        "    if (y not in mp):\n",
        "        mp[y] = list()\n",
        "    mp[y].append(row)\n",
        "for label in mp:\n",
        "    print(label)\n",
        "    for row in mp[label]:\n",
        "        print(row)"
      ]
    },
    {
      "cell_type": "code",
      "execution_count": 5,
      "metadata": {
        "id": "2BCkxo5MhSbf"
      },
      "outputs": [],
      "source": [
        "test = [1,1,0]"
      ]
    },
    {
      "cell_type": "code",
      "execution_count": 6,
      "metadata": {
        "colab": {
          "base_uri": "https://localhost:8080/"
        },
        "id": "8lFMxWHmjeL0",
        "outputId": "38605f7d-620f-4d0d-dcba-6d9711c04ee2"
      },
      "outputs": [
        {
          "name": "stdout",
          "output_type": "stream",
          "text": [
            "Total yes: 6 / 18\n",
            "for feature 1\n",
            "1 / 6\n",
            "for feature 2\n",
            "5 / 6\n",
            "for feature 3\n",
            "5 / 6\n",
            "Total no: 12 / 18\n",
            "for feature 1\n",
            "2 / 12\n",
            "for feature 2\n",
            "8 / 12\n",
            "for feature 3\n",
            "9 / 12\n"
          ]
        }
      ],
      "source": [
        "probYes = 1\n",
        "\n",
        "count = 0\n",
        "total = 0\n",
        "for row in dataset:\n",
        "    if(row[-1] == 1):\n",
        "        count+=1\n",
        "    total+=1\n",
        "print(\"Total yes: \"+str(count)+\" / \"+str(total))\n",
        "probYes *= count/total\n",
        "for i in range(len(test)):\n",
        "    count = 0\n",
        "    total = 0\n",
        "    for row in mp[1]:\n",
        "        if(test[i] == row[i]):\n",
        "            count += 1\n",
        "        total += 1\n",
        "    print('for feature '+str(i+1))\n",
        "    print(str(count)+\" / \"+str(total))\n",
        "    probYes *= count/total\n",
        "\n",
        "probNo = 1\n",
        "count = 0\n",
        "total = 0\n",
        "for row in dataset:\n",
        "    if(row[-1] == 0):\n",
        "        count+=1\n",
        "    total+=1\n",
        "probNo *= count/total\n",
        "print(\"Total no: \"+str(count)+\" / \"+str(total))\n",
        "for i in range(len(test)):\n",
        "    count = 0\n",
        "    total = 0\n",
        "    for row in mp[0]:\n",
        "        if(test[i] == row[i]):\n",
        "            count += 1\n",
        "        total += 1\n",
        "    print('for feature '+str(i+1))\n",
        "    print(str(count)+\" / \"+str(total))\n",
        "    probNo *= count/total"
      ]
    },
    {
      "cell_type": "code",
      "execution_count": 7,
      "metadata": {
        "colab": {
          "base_uri": "https://localhost:8080/"
        },
        "id": "CRuvHOLll1Ec",
        "outputId": "fa82b996-9799-4b36-9e01-d247c47f5729"
      },
      "outputs": [
        {
          "name": "stdout",
          "output_type": "stream",
          "text": [
            "0.038580246913580245\n",
            "0.05555555555555555\n"
          ]
        }
      ],
      "source": [
        "print(probYes)\n",
        "print(probNo)"
      ]
    },
    {
      "cell_type": "code",
      "execution_count": 10,
      "metadata": {
        "colab": {
          "base_uri": "https://localhost:8080/"
        },
        "id": "AOj7FfusmGdD",
        "outputId": "6682bc98-f981-45e7-de61-6afcbc4203dd"
      },
      "outputs": [
        {
          "name": "stdout",
          "output_type": "stream",
          "text": [
            "Probability of being non-mammal: 59.01639344262295%\n",
            "Probability of being mammal: 40.983606557377044%\n"
          ]
        }
      ],
      "source": [
        "prob = probNo/(probYes+probNo)\n",
        "prob1 = probYes/(probYes+probNo)\n",
        "print(\"Probability of being non-mammal: \"+str(prob*100)+\"%\")\n",
        "print(\"Probability of being mammal: \"+str(prob1*100)+\"%\")"
      ]
    }
  ],
  "metadata": {
    "colab": {
      "provenance": []
    },
    "kernelspec": {
      "display_name": "Python 3.10.6 64-bit",
      "language": "python",
      "name": "python3"
    },
    "language_info": {
      "name": "python",
      "version": "3.10.6"
    },
    "vscode": {
      "interpreter": {
        "hash": "fdeba29dc3a54dcc62ab65d34692a14a11af5012098032059aebf3d8ebf2e0a7"
      }
    }
  },
  "nbformat": 4,
  "nbformat_minor": 0
}
